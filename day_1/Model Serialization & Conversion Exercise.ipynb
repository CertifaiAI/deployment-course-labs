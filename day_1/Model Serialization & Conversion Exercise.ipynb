{
 "cells": [
  {
   "cell_type": "markdown",
   "id": "932869b2",
   "metadata": {},
   "source": [
    "![logo](../picture/license_header_logo.png)\n",
    "\n",
    "> **Copyright (c) 2020-2021 CertifAI Sdn. Bhd.**<br>\n",
    " <br>\n",
    "This program is part of OSRFramework. You can redistribute it and/or modify\n",
    "<br>it under the terms of the GNU Affero General Public License as published by\n",
    "<br>the Free Software Foundation, either version 3 of the License, or\n",
    "<br>(at your option) any later version.\n",
    "<br>\n",
    "<br>This program is distributed in the hope that it will be useful,\n",
    "<br>but WITHOUT ANY WARRANTY; without even the implied warranty of\n",
    "<br>MERCHANTABILITY or FITNESS FOR A PARTICULAR PURPOSE.  See the\n",
    "<br>GNU Affero General Public License for more details.\n",
    "<br>\n",
    "<br>You should have received a copy of the GNU Affero General Public License\n",
    "<br>along with this program.  If not, see <http://www.gnu.org/licenses/>.\n",
    "<br>"
   ]
  },
  {
   "cell_type": "markdown",
   "id": "de64c5c6",
   "metadata": {},
   "source": [
    "Authored by: [BK Yeoh](boonkhai.yeoh@certifai.ai)"
   ]
  },
  {
   "cell_type": "markdown",
   "id": "ffb16bed",
   "metadata": {},
   "source": [
    "# Exercise\n",
    "## Introduction\n",
    "The data we'll be using is a combined curated dataset of COVID-19 Chest X-ray images obtained by collating 15 publically available datasets. [source](https://data.mendeley.com/datasets/9xkhgts2s6/1)\n",
    "\n",
    "The dataset contains 1281 COVID-19 X-Rays, 3270 Normal X-Rays, 1656 viral-pneumonia X-Rays, and 3001 bacterial-pneumonia X-Rays. The 4 classes are:\n",
    "* COVID-19\n",
    "* Normal\n",
    "* Pneumonia-Bacterial\n",
    "* Pneumonia-Viral\n",
    "\n",
    "Use the model in the previous `image_classifier_exercise` as the base model for this exercise. Feel free to use the helper testing function `utils.Toolbox` to validate your model correctness.\n",
    "\n",
    "You are required:\n",
    "* Save your model using:\n",
    "    * Python Pickle\n",
    "    * Joblib\n",
    "    * PyTorch TorchScript\n",
    "* Save your model format in:\n",
    "    * ONNX\n",
    "    * Protocol Buffers\n",
    "    * JSON format\n",
    "* Pass the File test\n",
    "* Pass the Accuracy Test\n"
   ]
  },
  {
   "cell_type": "code",
   "execution_count": null,
   "id": "bea712d5",
   "metadata": {},
   "outputs": [],
   "source": [
    "import numpy as np\n",
    "from pathlib import Path\n",
    "import torchvision\n",
    "from torchvision import transforms,datasets,models\n",
    "from torch.utils.data import DataLoader\n",
    "import torch\n",
    "import torch.nn as nn\n",
    "import torch.nn.functional as F\n",
    "import torchvision.models as models\n",
    "import torch.onnx\n",
    "from time import time\n",
    "import warnings\n",
    "import os\n",
    "import utils"
   ]
  },
  {
   "cell_type": "markdown",
   "id": "01c09195",
   "metadata": {},
   "source": [
    "## Helper Function"
   ]
  },
  {
   "cell_type": "code",
   "execution_count": null,
   "id": "616c7196",
   "metadata": {},
   "outputs": [],
   "source": [
    "# Generate folder to store the model\n",
    "gen_model_path = 'generated_model/exercise'\n",
    "dir_list = ['pickle','joblib','torchscript','onnx','protocol_buffers','json'] \n",
    "utils.folder_generator(gen_model_path,dir_list)"
   ]
  },
  {
   "cell_type": "code",
   "execution_count": null,
   "id": "745a035d",
   "metadata": {},
   "outputs": [],
   "source": [
    "source = 'https://s3.eu-central-1.wasabisys.com/certifai/deployment-training-labs/xray_image_classification-20210604T123548Z-001.zip'\n",
    "target = '../resources/data/'\n",
    "filename = 'xray_image_classification.zip'\n",
    "utils.download(source, target, filename,True)\n",
    "\n",
    "model_url = \"https://s3.eu-central-1.wasabisys.com/certifai/deployment-training-labs/models/xray_classifier_state_dict.pt\"\n",
    "modelname = \"xray_classifier_state_dict.pt\"\n",
    "utils.download(model_url, gen_model_path, modelname)"
   ]
  },
  {
   "cell_type": "code",
   "execution_count": null,
   "id": "5bd1c715",
   "metadata": {},
   "outputs": [],
   "source": [
    "# The data is located in the data folder\n",
    "datadir = Path().resolve().parent/'resources/data/'\n",
    "dirtytestdir = datadir/'xray_image_classification/test/'"
   ]
  },
  {
   "cell_type": "code",
   "execution_count": null,
   "id": "6aafb97c",
   "metadata": {},
   "outputs": [],
   "source": [
    "val_transform = transforms.Compose([\n",
    "        transforms.Resize((224, 224)),\n",
    "        transforms.ToTensor(),\n",
    "        transforms.Normalize([0.485, 0.456, 0.406],\n",
    "                             [0.229, 0.224, 0.225])\n",
    "    ])"
   ]
  },
  {
   "cell_type": "code",
   "execution_count": null,
   "id": "f21860d5",
   "metadata": {
    "scrolled": true
   },
   "outputs": [],
   "source": [
    "model = models.squeezenet1_0(pretrained=True)\n",
    "# Freezing the parameters\n",
    "for param in model.parameters():\n",
    "    param.requires_grad = False\n",
    "    \n",
    "# Replace a custom classifier to fit our data\n",
    "torch.manual_seed(123)\n",
    "\n",
    "num_output = 4\n",
    "model.classifier = nn.Sequential(nn.Dropout(0.5),\n",
    "                                 nn.Conv2d(512, num_output, 1, 1),\n",
    "                                 nn.ReLU(),\n",
    "                                 nn.AvgPool2d(13, 1))\n",
    "\n",
    "model.load_state_dict(torch.load(os.path.join(gen_model_path,modelname)))\n",
    "model"
   ]
  },
  {
   "cell_type": "code",
   "execution_count": null,
   "id": "949fccc3",
   "metadata": {},
   "outputs": [],
   "source": [
    "'''\n",
    "Arguments \n",
    "model: base model define by user\n",
    "dirtytestdir: test dataset directory\n",
    "val_transform: image transforms\n",
    "'''\n",
    "toolbox = utils.Toolbox(model,dirtytestdir,val_transform)"
   ]
  },
  {
   "cell_type": "markdown",
   "id": "402db273",
   "metadata": {},
   "source": [
    "## Save & Load the Model using Python Pickle\n",
    "Save and load your model <br>\n",
    "`model file path = '../generated_model/exercise/pickle/xray_image_classification.pt'`"
   ]
  },
  {
   "cell_type": "code",
   "execution_count": null,
   "id": "914188d1",
   "metadata": {},
   "outputs": [],
   "source": [
    "import pickle\n",
    "\n",
    "# save the model to disk\n",
    "def pickle_func(directory = gen_model_path):\n",
    "    # YOUR CODE HERE\n",
    "    return loaded_model_pk"
   ]
  },
  {
   "cell_type": "code",
   "execution_count": null,
   "id": "5dc3276d",
   "metadata": {},
   "outputs": [],
   "source": [
    "toolbox.test(os.path.join(gen_model_path,dir_list[0]+'/'+\"xray_image_classification.pt\"),\n",
    "     pickle_func())"
   ]
  },
  {
   "cell_type": "markdown",
   "id": "04c439cb",
   "metadata": {},
   "source": [
    "## Save & Load the Model using Joblib\n",
    "Save and load your model <br>\n",
    "`model file path = '../generated_model/exercise/joblib/xray_image_classification.pt'`<br>"
   ]
  },
  {
   "cell_type": "code",
   "execution_count": null,
   "id": "301c2f18",
   "metadata": {},
   "outputs": [],
   "source": [
    "import joblib\n",
    "\n",
    "# save the model to disk\n",
    "def joblib_func(directory = gen_model_path):\n",
    "    # YOUR CODE HERE\n",
    "    return loaded_model_jb"
   ]
  },
  {
   "cell_type": "code",
   "execution_count": null,
   "id": "e034584a",
   "metadata": {},
   "outputs": [],
   "source": [
    "toolbox.test(os.path.join(gen_model_path,dir_list[1]+'/'+\"xray_image_classification.pt\"),\n",
    "     joblib_func())"
   ]
  },
  {
   "cell_type": "markdown",
   "id": "8524345c",
   "metadata": {},
   "source": [
    "## Save & Load the Model using TorchScript\n",
    "Use `torch.jit.script` to save you model and `torch.jit.load` to load it.<br>\n",
    "`model file path = '../generated_model/exercise/torchscrip/xray_image_classification.pt'`<br>"
   ]
  },
  {
   "cell_type": "code",
   "execution_count": null,
   "id": "cdff9f1e",
   "metadata": {},
   "outputs": [],
   "source": [
    "def torch_func(directory = gen_model_path):\n",
    "    # YOUR CODE HERE\n",
    "    return loaded_script_model"
   ]
  },
  {
   "cell_type": "code",
   "execution_count": null,
   "id": "47cca232",
   "metadata": {},
   "outputs": [],
   "source": [
    "toolbox.test(os.path.join(gen_model_path,dir_list[2]+'/'+\"xray_image_classification.pt\"),\n",
    "     torch_func())"
   ]
  },
  {
   "cell_type": "markdown",
   "id": "8a3dba32",
   "metadata": {},
   "source": [
    "## Save Model in ONNX format\n",
    "Save you model in ONNX format\n",
    "`model file path = '../generated_model/exercise/onnx/xray_image_classification.onnx'`<br>"
   ]
  },
  {
   "cell_type": "code",
   "execution_count": null,
   "id": "18461963",
   "metadata": {},
   "outputs": [],
   "source": [
    "x = torch.randn(10, 3, 224, 224, requires_grad=True)\n",
    "# Export the model\n",
    "# YOUR CODE HERE"
   ]
  },
  {
   "cell_type": "code",
   "execution_count": null,
   "id": "1869ec9b",
   "metadata": {},
   "outputs": [],
   "source": [
    "toolbox.test(os.path.join(gen_model_path,dir_list[3]+'/'+\"xray_image_classification.onnx\"))"
   ]
  },
  {
   "cell_type": "markdown",
   "id": "7215ad72",
   "metadata": {},
   "source": [
    "## Save Model in Protocol Buffers\n",
    "Save you model in `.pb` format<br>\n",
    "`model file path = '../generated_model/exercise/protocol_buffers'`<br>"
   ]
  },
  {
   "cell_type": "code",
   "execution_count": null,
   "id": "c3478d07",
   "metadata": {
    "scrolled": true
   },
   "outputs": [],
   "source": [
    "from onnx_tf.backend import prepare\n",
    "import onnx\n",
    "warnings.filterwarnings(\"ignore\")\n",
    "# YOUR CODE HERE\n",
    "!saved_model_cli show --dir {pb_filepath} --all"
   ]
  },
  {
   "cell_type": "code",
   "execution_count": null,
   "id": "9019d356",
   "metadata": {},
   "outputs": [],
   "source": [
    "toolbox.test(os.path.join(gen_model_path,dir_list[4]+'/'+\"saved_model.pb\"))"
   ]
  },
  {
   "cell_type": "markdown",
   "id": "0d8c9833",
   "metadata": {},
   "source": [
    "## Save model in Json format\n",
    "Save you model in `.json` format<br>\n",
    "`model file path = '../generated_model/exercise/json/xray_image_classification.json'`<br>"
   ]
  },
  {
   "cell_type": "code",
   "execution_count": null,
   "id": "7d84467a",
   "metadata": {},
   "outputs": [],
   "source": [
    "# YOUR CODE HERE"
   ]
  },
  {
   "cell_type": "code",
   "execution_count": null,
   "id": "e90681ed",
   "metadata": {},
   "outputs": [],
   "source": [
    "toolbox.test(os.path.join(gen_model_path,dir_list[5]+'/'+\"xray_image_classification.json\"))"
   ]
  }
 ],
 "metadata": {
  "kernelspec": {
   "display_name": "Python [conda env:deploy] *",
   "language": "python",
   "name": "conda-env-deploy-py"
  },
  "language_info": {
   "codemirror_mode": {
    "name": "ipython",
    "version": 3
   },
   "file_extension": ".py",
   "mimetype": "text/x-python",
   "name": "python",
   "nbconvert_exporter": "python",
   "pygments_lexer": "ipython3",
   "version": "3.8.11"
  },
  "toc": {
   "base_numbering": 1,
   "nav_menu": {},
   "number_sections": true,
   "sideBar": true,
   "skip_h1_title": false,
   "title_cell": "Table of Contents",
   "title_sidebar": "Contents",
   "toc_cell": false,
   "toc_position": {},
   "toc_section_display": true,
   "toc_window_display": false
  },
  "varInspector": {
   "cols": {
    "lenName": 16,
    "lenType": 16,
    "lenVar": 40
   },
   "kernels_config": {
    "python": {
     "delete_cmd_postfix": "",
     "delete_cmd_prefix": "del ",
     "library": "var_list.py",
     "varRefreshCmd": "print(var_dic_list())"
    },
    "r": {
     "delete_cmd_postfix": ") ",
     "delete_cmd_prefix": "rm(",
     "library": "var_list.r",
     "varRefreshCmd": "cat(var_dic_list()) "
    }
   },
   "oldHeight": 408.735364,
   "position": {
    "height": "40px",
    "left": "1347.45px",
    "right": "20px",
    "top": "130.991px",
    "width": "350px"
   },
   "types_to_exclude": [
    "module",
    "function",
    "builtin_function_or_method",
    "instance",
    "_Feature"
   ],
   "varInspector_section_display": "none",
   "window_display": false
  }
 },
 "nbformat": 4,
 "nbformat_minor": 5
}
