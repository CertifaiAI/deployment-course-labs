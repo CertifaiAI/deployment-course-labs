{
 "cells": [
  {
   "cell_type": "markdown",
   "source": [
    "![logo](../picture/license_header_logo.png)\n",
    "\n",
    "> **Copyright (c) 2020-2021 CertifAI Sdn. Bhd.**<br>\n",
    "<br>\n",
    "This program is part of OSRFramework. You can redistribute it and/or modify\n",
    "<br>it under the terms of the GNU Affero General Public License as published by\n",
    "<br>the Free Software Foundation, either version 3 of the License, or\n",
    "<br>(at your option) any later version.\n",
    "<br>\n",
    "<br>This program is distributed in the hope that it will be useful,\n",
    "<br>but WITHOUT ANY WARRANTY; without even the implied warranty of\n",
    "<br>MERCHANTABILITY or FITNESS FOR A PARTICULAR PURPOSE.  See the\n",
    "<br>GNU Affero General Public License for more details.\n",
    "<br>\n",
    "<br>You should have received a copy of the GNU Affero General Public License\n",
    "<br>along with this program.  If not, see <http://www.gnu.org/licenses/>.\n",
    "<br>"
   ],
   "metadata": {}
  },
  {
   "cell_type": "markdown",
   "source": [
    "Authored by: [Nazurah](mailto:nazurah.kamil@skymind.my), [Annabelle Ng](mailto:annabelle.ng@skymind.my)"
   ],
   "metadata": {}
  },
  {
   "cell_type": "markdown",
   "source": [
    "### Exercise"
   ],
   "metadata": {}
  },
  {
   "cell_type": "markdown",
   "source": [
    "The data we'll be using is a combined curated dataset of COVID-19 Chest X-ray images obtained by collating 15 publically available datasets. [[source]](https://data.mendeley.com/datasets/9xkhgts2s6/1)\r\n",
    "\r\n",
    "The dataset contains 1281 COVID-19 X-Rays, 3270 Normal X-Rays, 1656 viral-pneumonia X-Rays, and 3001 bacterial-pneumonia X-Rays. The 4 classes are:\r\n",
    "* COVID-19\r\n",
    "* Normal\r\n",
    "* Pneumonia-Bacterial\r\n",
    "* Pneumonia-Viral\r\n",
    "\r\n",
    "You are required to build an image classifier which can classify the X-Rays images into their respective classes which achieves at least 85% acccuracy for the training set and 70% for both validation and test set. We will recommend you to use the CNN architecture for your model but feel free to explore and share your result with others."
   ],
   "metadata": {}
  },
  {
   "cell_type": "markdown",
   "source": [
    "##### Download Data <a id=\"download\"></a>"
   ],
   "metadata": {}
  },
  {
   "cell_type": "code",
   "execution_count": 1,
   "source": [
    "import os\r\n",
    "from pathlib import Path\r\n",
    "import wget\r\n",
    "import zipfile\r\n",
    "\r\n",
    "\r\n",
    "def download(source, target, filename):\r\n",
    "    if not os.path.exists(target):\r\n",
    "        os.mkdir(target)\r\n",
    "    targt_file = str(Path(target).joinpath(filename))\r\n",
    "    if os.path.exists(targt_file):\r\n",
    "        print('data already exists, skipping download')\r\n",
    "        return\r\n",
    "\r\n",
    "    print(\"Downloading from {} to {}\".format(source, target))\r\n",
    "    wget.download(source, targt_file)\r\n",
    "    print(\"\\nDone!\")\r\n",
    "\r\n",
    "    print('Unzipping {}'.format(targt_file))\r\n",
    "    zipr = zipfile.ZipFile(targt_file)\r\n",
    "    zipr.extractall(target)\r\n",
    "    zipr.close()\r\n",
    "\r\n",
    "    print('Done!')"
   ],
   "outputs": [],
   "metadata": {}
  },
  {
   "cell_type": "code",
   "execution_count": 2,
   "source": [
    "source = 'https://s3.eu-central-1.wasabisys.com/certifai/deployment-training-labs/xray_image_classification-20210604T123548Z-001.zip'\n",
    "target = '../resources/data/'\n",
    "filename = 'xray_image_classification.zip'\n",
    "download(source, target, filename)"
   ],
   "outputs": [
    {
     "output_type": "stream",
     "name": "stdout",
     "text": [
      "Downloading from https://s3.eu-central-1.wasabisys.com/certifai/deployment-training-labs/xray_image_classification-20210604T123548Z-001.zip to ../resources/data/\n",
      "100% [......................................................................] 124838853 / 124838853\n",
      "Done!\n",
      "Unzipping ..\\resources\\data\\xray_image_classification.zip\n",
      "Done!\n"
     ]
    }
   ],
   "metadata": {}
  },
  {
   "cell_type": "markdown",
   "source": [
    "Start your solution here. Good luck!"
   ],
   "metadata": {}
  }
 ],
 "metadata": {
  "_draft": {
   "nbviewer_url": "https://gist.github.com/300c63ab539c1d7b149888631fef3fb5"
  },
  "gist": {
   "data": {
    "description": "day_1/image_classifier_exercise.ipynb",
    "public": false
   },
   "id": "300c63ab539c1d7b149888631fef3fb5"
  },
  "kernelspec": {
   "display_name": "Python [conda env:deploy] *",
   "language": "python",
   "name": "conda-env-deploy-py"
  },
  "language_info": {
   "codemirror_mode": {
    "name": "ipython",
    "version": 3
   },
   "file_extension": ".py",
   "mimetype": "text/x-python",
   "name": "python",
   "nbconvert_exporter": "python",
   "pygments_lexer": "ipython3",
   "version": "3.8.11"
  },
  "toc": {
   "base_numbering": 1,
   "nav_menu": {},
   "number_sections": true,
   "sideBar": true,
   "skip_h1_title": false,
   "title_cell": "Table of Contents",
   "title_sidebar": "Contents",
   "toc_cell": false,
   "toc_position": {},
   "toc_section_display": true,
   "toc_window_display": false
  }
 },
 "nbformat": 4,
 "nbformat_minor": 5
}