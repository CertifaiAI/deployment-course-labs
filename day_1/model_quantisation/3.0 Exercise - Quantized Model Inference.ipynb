{
 "cells": [
  {
   "cell_type": "markdown",
   "id": "automated-going",
   "metadata": {},
   "source": [
    "![logo](../../picture/license_header_logo.png)\n",
    "**Copyright (c) 2020-2021 CertifAI Sdn. Bhd.**\n",
    "\n",
    "This program is part of OSRFramework. You can redistribute it and/or modify\n",
    "it under the terms of the GNU Affero General Public License as published by\n",
    "the Free Software Foundation, either version 3 of the License, or\n",
    "(at your option) any later version.\n",
    "\n",
    "This program is distributed in the hope that it will be useful,\n",
    "but WITHOUT ANY WARRANTY; without even the implied warranty of\n",
    "MERCHANTABILITY or FITNESS FOR A PARTICULAR PURPOSE. See the\n",
    "GNU Affero General Public License for more details.\n",
    "\n",
    "You should have received a copy of the GNU Affero General Public License\n",
    "along with this program. If not, see http://www.gnu.org/licenses/.\n",
    "\n",
    "Authored by: [Jacklyn Lim](mailto:jacklyn.lim@certifai.ai)"
   ]
  },
  {
   "cell_type": "markdown",
   "id": "charged-broadcasting",
   "metadata": {},
   "source": [
    "### Import Libraries"
   ]
  },
  {
   "cell_type": "code",
   "execution_count": null,
   "id": "fancy-stick",
   "metadata": {},
   "outputs": [],
   "source": [
    "import torch\n",
    "from PIL import Image\n",
    "from torchvision import transforms\n",
    "import torch.nn.functional as F\n",
    "import time\n",
    "from utils import load_image"
   ]
  },
  {
   "cell_type": "markdown",
   "id": "dependent-compatibility",
   "metadata": {},
   "source": [
    "### Load Quantized Torchscript Model"
   ]
  },
  {
   "cell_type": "code",
   "execution_count": null,
   "id": "registered-feeding",
   "metadata": {},
   "outputs": [],
   "source": [
    "def load_torchscript_model(model_filepath, device):\n",
    "    \"\"\" Returns a torchscript model given the model_filepath (a file with .pth/.pt format) \"\"\"\n",
    "    pass\n",
    "    ############ Enter your code here ############\n",
    "    \n",
    "    ############ Enter your code here ############"
   ]
  },
  {
   "cell_type": "code",
   "execution_count": null,
   "id": "f9a99f74",
   "metadata": {},
   "outputs": [],
   "source": [
    "MODEL_PATH = \"../generated_model/graphmode_static_quantized_model.pt\"\n",
    "DEVICE = \"cpu\"\n",
    "\n",
    "model = load_torchscript_model(MODEL_PATH, DEVICE)"
   ]
  },
  {
   "cell_type": "markdown",
   "id": "76843e88",
   "metadata": {},
   "source": [
    "### Load Inference Image"
   ]
  },
  {
   "cell_type": "code",
   "execution_count": null,
   "id": "7cbf334a",
   "metadata": {},
   "outputs": [],
   "source": [
    "INFERENCE_IMAGE_PATH = \"../../resources/data/fruits_image_classification/test/apple/image1.jpg\"\n",
    "\n",
    "inference_image = load_image(INFERENCE_IMAGE_PATH)"
   ]
  },
  {
   "cell_type": "markdown",
   "id": "compact-optimum",
   "metadata": {},
   "source": [
    "### Perform Inference Using Torchscript Model"
   ]
  },
  {
   "cell_type": "code",
   "execution_count": null,
   "id": "amateur-calculator",
   "metadata": {},
   "outputs": [],
   "source": [
    "def inference(model, inference_image):\n",
    "    \"\"\" returns predicted label and confidence \"\"\"\n",
    "    pass\n",
    "    ############ Enter your code here ############\n",
    "    \n",
    "    ############ Enter your code here ############"
   ]
  },
  {
   "cell_type": "code",
   "execution_count": null,
   "id": "swiss-functionality",
   "metadata": {},
   "outputs": [],
   "source": [
    "HUMAN_READABLE_LABELS = {0: \"Apple\", 1: \"Grapes\", 2: \"Lemon\"}\n",
    "\n",
    "with torch.jit.optimized_execution(False):\n",
    "    pass\n",
    "    ############ Enter your code here ############\n",
    "    \n",
    "    ############ Enter your code here ############"
   ]
  },
  {
   "cell_type": "markdown",
   "id": "fabulous-telephone",
   "metadata": {},
   "source": [
    "Expected Output:\n",
    "\n",
    "```Prediction: Apple; Confidence: 1.0```"
   ]
  }
 ],
 "metadata": {
  "kernelspec": {
   "display_name": "Python [conda env:deploy] *",
   "language": "python",
   "name": "conda-env-deploy-py"
  },
  "language_info": {
   "codemirror_mode": {
    "name": "ipython",
    "version": 3
   },
   "file_extension": ".py",
   "mimetype": "text/x-python",
   "name": "python",
   "nbconvert_exporter": "python",
   "pygments_lexer": "ipython3",
   "version": "3.8.11"
  },
  "toc": {
   "base_numbering": 1,
   "nav_menu": {},
   "number_sections": true,
   "sideBar": true,
   "skip_h1_title": false,
   "title_cell": "Table of Contents",
   "title_sidebar": "Contents",
   "toc_cell": false,
   "toc_position": {},
   "toc_section_display": true,
   "toc_window_display": true
  }
 },
 "nbformat": 4,
 "nbformat_minor": 5
}
